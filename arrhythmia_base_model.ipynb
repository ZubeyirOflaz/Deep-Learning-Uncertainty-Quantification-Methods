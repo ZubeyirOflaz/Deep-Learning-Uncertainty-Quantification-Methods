{
  "nbformat": 4,
  "nbformat_minor": 0,
  "metadata": {
    "colab": {
      "name": "Pytorch classifier Optuna Tuner",
      "provenance": []
    },
    "kernelspec": {
      "name": "python3",
      "display_name": "Python 3"
    },
    "language_info": {
      "name": "python"
    }
  },
  "cells": [
    {
      "cell_type": "markdown",
      "source": [
        "#Description of the Notebook\n",
        "\n",
        "This Google Colab Notebook was created for the creation of a dense neural network using Pytorch. It utilizes Optuna in order to determine the optimal hyperparameters."
      ],
      "metadata": {
        "id": "8lU-d1eMpnHG"
      }
    },
    {
      "cell_type": "markdown",
      "source": [
        "# Import Data and Metadata"
      ],
      "metadata": {
        "id": "kl4lGnyROMAX"
      }
    },
    {
      "cell_type": "code",
      "source": [
        "# Import data acquisition libraries\n",
        "import pandas as pd\n",
        "import requests as r\n",
        "#Import data processing libraries\n",
        "import numpy as np\n",
        "import matplotlib.pyplot as plt\n",
        "from matplotlib import colors\n",
        "from IPython import display\n",
        "import os\n",
        "from PIL import Image\n",
        "from torch.utils.data.dataset import Dataset\n",
        "from imageio import imread"
      ],
      "metadata": {
        "id": "wH8KbwKT_FeE"
      },
      "execution_count": null,
      "outputs": []
    },
    {
      "cell_type": "code",
      "execution_count": null,
      "metadata": {
        "id": "dLTi0pNC998B"
      },
      "outputs": [],
      "source": [
        "#data import\n",
        "\n",
        "arrhythmia_data = 'https://archive.ics.uci.edu/ml/machine-learning-databases/arrhythmia/arrhythmia.data'\n",
        "arrhythmia_classes = 'http://archive.ics.uci.edu/ml/machine-learning-databases/arrhythmia/arrhythmia.names'\n",
        "dataset = pd.read_csv(arrhythmia_data,header = None)"
      ]
    },
    {
      "cell_type": "code",
      "source": [
        "names = r.get(arrhythmia_classes).content.decode('utf-8')"
      ],
      "metadata": {
        "id": "JHhk5oYJ_fbJ"
      },
      "execution_count": null,
      "outputs": []
    },
    {
      "cell_type": "code",
      "source": [
        "diagnose_classifications = {\n",
        "       '01':             'Normal',\n",
        "       '02':             'Ischemic changes (Coronary Artery Disease)',\n",
        "       '03':             'Old Anterior Myocardial Infarction',\n",
        "       '04':             'Old Inferior Myocardial Infarction',\n",
        "       '05':             'Sinus tachycardy',\n",
        "       '06':             'Sinus bradycardy',\t\n",
        "       '07':             'Ventricular Premature Contraction (PVC)',\n",
        "       '08':             'Supraventricular Premature Contraction',\n",
        "       '09':             'Left bundle branch block',\t\n",
        "       '10':              'Right bundle branch block',\n",
        "       '11':             '1. degree AtrioVentricular block',\n",
        "       '12':             '2. degree AV block\t',\n",
        "       '13':             '3. degree AV block',\n",
        "       '14':             'Left ventricule hypertrophy',\n",
        "       '15':             'Atrial Fibrillation or Flutter',\n",
        "       '16':             'Others'\n",
        "          \t\t\t\t         }"
      ],
      "metadata": {
        "id": "pkTGdDzaDYDr"
      },
      "execution_count": null,
      "outputs": []
    },
    {
      "cell_type": "code",
      "source": [
        "#Replacement of missing values with median value for that attribute\n",
        "dataset = dataset.replace('?', np.nan)\n",
        "dataset.fillna(dataset.median(), inplace = True)\n",
        "dataset[279] = dataset[279]-1"
      ],
      "metadata": {
        "id": "WWlq-MFNVa_u"
      },
      "execution_count": null,
      "outputs": []
    },
    {
      "cell_type": "markdown",
      "source": [
        "#Creation of the Pytorch Dataset and Model"
      ],
      "metadata": {
        "id": "3jSJKJHBO2sN"
      }
    },
    {
      "cell_type": "code",
      "source": [
        "!pip install -q optuna"
      ],
      "metadata": {
        "colab": {
          "base_uri": "https://localhost:8080/"
        },
        "id": "0UwuKZ_pitLM",
        "outputId": "8bbac060-835e-4b0c-9455-7ee43a09cf90"
      },
      "execution_count": null,
      "outputs": [
        {
          "output_type": "stream",
          "name": "stdout",
          "text": [
            "\u001b[K     |████████████████████████████████| 308 kB 8.3 MB/s \n",
            "\u001b[K     |████████████████████████████████| 81 kB 4.7 MB/s \n",
            "\u001b[K     |████████████████████████████████| 209 kB 43.9 MB/s \n",
            "\u001b[K     |████████████████████████████████| 78 kB 3.2 MB/s \n",
            "\u001b[K     |████████████████████████████████| 49 kB 6.6 MB/s \n",
            "\u001b[K     |████████████████████████████████| 146 kB 33.4 MB/s \n",
            "\u001b[K     |████████████████████████████████| 112 kB 46.7 MB/s \n",
            "\u001b[?25h  Building wheel for pyperclip (setup.py) ... \u001b[?25l\u001b[?25hdone\n"
          ]
        }
      ]
    },
    {
      "cell_type": "code",
      "source": [
        "# Import Neural Network Libraries\n",
        "import torch\n",
        "import torch.nn as nn\n",
        "import torch.nn.functional as F\n",
        "import torch.optim as optim\n",
        "import torchvision\n",
        "from torchvision import datasets, transforms\n",
        "from torch.utils.data import DataLoader\n",
        "from torch.utils.data import Dataset, random_split\n",
        "import pickle\n",
        "\n",
        "import optuna\n",
        "from optuna.trial import TrialState\n",
        "from sklearn.datasets import make_classification\n",
        "from sklearn.linear_model import LogisticRegression\n",
        "from sklearn import preprocessing\n",
        "\n",
        "from google.colab import files\n"
      ],
      "metadata": {
        "id": "yc8ftYRHEfMB"
      },
      "execution_count": null,
      "outputs": []
    },
    {
      "cell_type": "code",
      "source": [
        "# Dataloader for pandas dataframe to pytorch dataset conversion\n",
        "class pandas_dataset(Dataset):\n",
        "\n",
        "  def __init__(self,pd_dataframe):\n",
        "    df= pd_dataframe\n",
        "    \n",
        "    x=df.iloc[:,:-1].values\n",
        "    y=df.iloc[:,-1:].values\n",
        "    transformer = preprocessing.RobustScaler().fit(x)\n",
        "    x = transformer.transform(x)\n",
        "\n",
        "    self.x_train=torch.tensor(x.astype(np.float32),dtype=torch.float32)\n",
        "    self.y_train=torch.tensor(y.astype(np.int8),dtype=torch.long)\n",
        "    y = torch.tensor(y[:, 0])\n",
        "\n",
        "  def __len__(self):\n",
        "    return len(self.y_train)\n",
        "  \n",
        "  def __getitem__(self,idx):\n",
        "    return self.x_train[idx],self.y_train[idx]"
      ],
      "metadata": {
        "id": "7jNihX3FPfk9"
      },
      "execution_count": null,
      "outputs": []
    },
    {
      "cell_type": "code",
      "source": [
        "df_dataset=pandas_dataset(dataset)\n",
        "#data_loader=DataLoader(df_dataset,batch_size=8,shuffle=False)"
      ],
      "metadata": {
        "id": "bSrP2kvWQ2o8"
      },
      "execution_count": null,
      "outputs": []
    },
    {
      "cell_type": "code",
      "source": [
        "train, test = random_split(df_dataset,[400,52])\n",
        "\n",
        "use_cuda = torch.cuda.is_available()\n",
        "device = torch.device(\"cuda:0\" if use_cuda else \"cpu\")\n",
        "torch.backends.cudnn.benchmark = True\n",
        "batch_size = 8\n",
        "params = {'batch_size': batch_size,\n",
        "          'shuffle': True,\n",
        "          'num_workers': 2}\n",
        "\n",
        "train_loader = DataLoader(train, **params)\n",
        "test_loader = DataLoader(test,**params)"
      ],
      "metadata": {
        "id": "d9fgRcxjRGxf"
      },
      "execution_count": null,
      "outputs": []
    },
    {
      "cell_type": "code",
      "source": [
        "n_features = len(dataset.columns) - 1\n",
        "n_classes = 16\n",
        "n_epochs = 25\n",
        "n_neurons = [128, 64, 32]\n",
        "\n",
        "criterion = nn.CrossEntropyLoss()\n"
      ],
      "metadata": {
        "id": "MpioLpMlSl5f"
      },
      "execution_count": null,
      "outputs": []
    },
    {
      "cell_type": "code",
      "source": [
        "LOG_INTERVAL = 10\n",
        "N_TRAIN_EXAMPLES = batch_size * 1000\n",
        "N_VALID_EXAMPLES = batch_size * 1000\n",
        "EPOCHS = 100"
      ],
      "metadata": {
        "id": "EUixHeQIOXmI"
      },
      "execution_count": null,
      "outputs": []
    },
    {
      "cell_type": "code",
      "source": [
        "def optuna_model(trial):\n",
        "    # We optimize the number of layers, hidden units and dropout ratio in each layer.\n",
        "    n_layers = trial.suggest_int(\"n_layers\", 1, 4)\n",
        "    layers = []\n",
        "\n",
        "    in_features = n_features\n",
        "    for i in range(n_layers):\n",
        "        out_features = trial.suggest_int(\"n_units_l{}\".format(i), 4, 128)\n",
        "        layers.append(nn.Linear(in_features, out_features))\n",
        "        layers.append(nn.ReLU())\n",
        "        p = trial.suggest_float(\"dropout_l{}\".format(i), 0.1, 0.5)\n",
        "        layers.append(nn.Dropout(p))\n",
        "\n",
        "        in_features = out_features\n",
        "    layers.append(nn.Linear(in_features, n_classes))\n",
        "    layers.append(nn.LogSoftmax(dim=1))\n",
        "\n",
        "    return nn.Sequential(*layers)"
      ],
      "metadata": {
        "id": "sJqg5nrsNFbV"
      },
      "execution_count": null,
      "outputs": []
    },
    {
      "cell_type": "code",
      "source": [
        "def objective(trial):\n",
        "\n",
        "    # Generate the model.\n",
        "    model = optuna_model(trial).to(device)\n",
        "\n",
        "    # Generate the optimizers.\n",
        "    optimizer_name = trial.suggest_categorical(\"optimizer\", [\"Adam\", \"RMSprop\", \"SGD\"])\n",
        "    lr = trial.suggest_float(\"lr\", 1e-5, 1e-1, log=True)\n",
        "    optimizer = getattr(optim, optimizer_name)(model.parameters(), lr=lr)\n",
        "\n",
        "\n",
        "    # Training of the model.\n",
        "    for epoch in range(EPOCHS):\n",
        "        model.train()\n",
        "        for batch_idx, (data, target) in enumerate(train_loader):\n",
        "            # Limiting training data for faster epochs.\n",
        "            if batch_idx * batch_size >= N_TRAIN_EXAMPLES:\n",
        "                break\n",
        "\n",
        "            data, target = data.view(data.size(0), -1).to(device), target.flatten().to(device)\n",
        "\n",
        "            optimizer.zero_grad()\n",
        "            output = model(data)\n",
        "            loss = F.nll_loss(output, target)\n",
        "            loss.backward()\n",
        "            optimizer.step()\n",
        "\n",
        "        # Validation of the model.\n",
        "        model.eval()\n",
        "        correct = 0\n",
        "        with torch.no_grad():\n",
        "            for batch_idx, (data, target) in enumerate(test_loader):\n",
        "                # Limiting validation data.\n",
        "                if batch_idx * batch_size >= N_VALID_EXAMPLES:\n",
        "                    break\n",
        "                data, target = data.view(data.size(0), -1).to(device), target.to(device)\n",
        "                output = model(data)\n",
        "                # Get the index of the max log-probability.\n",
        "                pred = output.argmax(dim=1, keepdim=True)\n",
        "                correct += pred.eq(target.view_as(pred)).sum().item()\n",
        "\n",
        "        accuracy = correct / min(len(test_loader.dataset), N_VALID_EXAMPLES)\n",
        "\n",
        "        trial.report(accuracy, epoch)\n",
        "\n",
        "        with open(\"{}.pickle\".format(trial.number), \"wb\") as fout:\n",
        "          pickle.dump(model, fout)\n",
        "\n",
        "        # Handle pruning based on the intermediate value.\n",
        "        if trial.should_prune():\n",
        "            raise optuna.exceptions.TrialPruned()\n",
        "\n",
        "    return accuracy"
      ],
      "metadata": {
        "id": "iMr1sV_EwAXW"
      },
      "execution_count": null,
      "outputs": []
    },
    {
      "cell_type": "code",
      "source": [
        "if __name__ == \"__main__\":\n",
        "    study = optuna.create_study(direction=\"maximize\")\n",
        "    study.optimize(objective, n_trials=100, timeout=60000)\n",
        "\n",
        "    pruned_trials = study.get_trials(deepcopy=False, states=[TrialState.PRUNED])\n",
        "    complete_trials = study.get_trials(deepcopy=False, states=[TrialState.COMPLETE])\n",
        "\n",
        "    print(\"Study statistics: \")\n",
        "    print(\"  Number of finished trials: \", len(study.trials))\n",
        "    print(\"  Number of pruned trials: \", len(pruned_trials))\n",
        "    print(\"  Number of complete trials: \", len(complete_trials))\n",
        "\n",
        "    print(\"Best trial:\")\n",
        "    trial = study.best_trial\n",
        "\n",
        "    print(\"  Value: \", trial.value)\n",
        "\n",
        "    print(\"  Params: \")\n",
        "    for key, value in trial.params.items():\n",
        "        print(\"    {}: {}\".format(key, value))"
      ],
      "metadata": {
        "colab": {
          "base_uri": "https://localhost:8080/"
        },
        "id": "zkPMueNTaVMH",
        "outputId": "a0276590-d4d1-4563-a312-cff6cd7b6fae"
      },
      "execution_count": null,
      "outputs": [
        {
          "output_type": "stream",
          "name": "stderr",
          "text": [
            "\u001b[32m[I 2022-05-25 08:29:27,690]\u001b[0m A new study created in memory with name: no-name-3fc699ce-ecca-4e20-a7da-7f91ea2b516c\u001b[0m\n",
            "\u001b[32m[I 2022-05-25 08:30:40,210]\u001b[0m Trial 0 finished with value: 0.6730769230769231 and parameters: {'n_layers': 1, 'n_units_l0': 6, 'dropout_l0': 0.46703596315983953, 'optimizer': 'Adam', 'lr': 0.059902729132143985}. Best is trial 0 with value: 0.6730769230769231.\u001b[0m\n",
            "\u001b[32m[I 2022-05-25 08:31:58,653]\u001b[0m Trial 1 finished with value: 0.7692307692307693 and parameters: {'n_layers': 3, 'n_units_l0': 82, 'dropout_l0': 0.26857955631800867, 'n_units_l1': 73, 'dropout_l1': 0.17405541195685909, 'n_units_l2': 115, 'dropout_l2': 0.304103902981594, 'optimizer': 'Adam', 'lr': 1.9646249445731023e-05}. Best is trial 1 with value: 0.7692307692307693.\u001b[0m\n",
            "\u001b[32m[I 2022-05-25 08:33:15,671]\u001b[0m Trial 2 finished with value: 0.7307692307692307 and parameters: {'n_layers': 2, 'n_units_l0': 26, 'dropout_l0': 0.23553584750387718, 'n_units_l1': 33, 'dropout_l1': 0.26934232972739475, 'optimizer': 'RMSprop', 'lr': 0.0034285330835539867}. Best is trial 1 with value: 0.7692307692307693.\u001b[0m\n",
            "\u001b[32m[I 2022-05-25 08:34:39,630]\u001b[0m Trial 3 finished with value: 0.7307692307692307 and parameters: {'n_layers': 4, 'n_units_l0': 109, 'dropout_l0': 0.13844927348642233, 'n_units_l1': 40, 'dropout_l1': 0.4203094436406182, 'n_units_l2': 78, 'dropout_l2': 0.4298135922404157, 'n_units_l3': 95, 'dropout_l3': 0.2065375575860883, 'optimizer': 'Adam', 'lr': 0.0008079731738615564}. Best is trial 1 with value: 0.7692307692307693.\u001b[0m\n",
            "\u001b[32m[I 2022-05-25 08:36:00,334]\u001b[0m Trial 4 finished with value: 0.6730769230769231 and parameters: {'n_layers': 3, 'n_units_l0': 43, 'dropout_l0': 0.2599525615824615, 'n_units_l1': 76, 'dropout_l1': 0.2824893217550186, 'n_units_l2': 61, 'dropout_l2': 0.2501682597394482, 'optimizer': 'SGD', 'lr': 0.00012585565657240183}. Best is trial 1 with value: 0.7692307692307693.\u001b[0m\n",
            "\u001b[32m[I 2022-05-25 08:37:22,578]\u001b[0m Trial 5 finished with value: 0.6538461538461539 and parameters: {'n_layers': 1, 'n_units_l0': 51, 'dropout_l0': 0.4962728642599269, 'optimizer': 'Adam', 'lr': 0.026022191125032044}. Best is trial 1 with value: 0.7692307692307693.\u001b[0m\n",
            "\u001b[32m[I 2022-05-25 08:38:43,980]\u001b[0m Trial 6 finished with value: 0.7307692307692307 and parameters: {'n_layers': 1, 'n_units_l0': 65, 'dropout_l0': 0.25215493169706754, 'optimizer': 'RMSprop', 'lr': 0.00871125808644628}. Best is trial 1 with value: 0.7692307692307693.\u001b[0m\n",
            "\u001b[32m[I 2022-05-25 08:38:45,701]\u001b[0m Trial 7 pruned. \u001b[0m\n",
            "\u001b[32m[I 2022-05-25 08:38:46,553]\u001b[0m Trial 8 pruned. \u001b[0m\n",
            "\u001b[32m[I 2022-05-25 08:40:07,396]\u001b[0m Trial 9 finished with value: 0.75 and parameters: {'n_layers': 1, 'n_units_l0': 105, 'dropout_l0': 0.2685904094467791, 'optimizer': 'SGD', 'lr': 0.014961754255768846}. Best is trial 1 with value: 0.7692307692307693.\u001b[0m\n",
            "\u001b[32m[I 2022-05-25 08:40:08,293]\u001b[0m Trial 10 pruned. \u001b[0m\n",
            "\u001b[32m[I 2022-05-25 08:40:09,185]\u001b[0m Trial 11 pruned. \u001b[0m\n",
            "\u001b[32m[I 2022-05-25 08:40:10,037]\u001b[0m Trial 12 pruned. \u001b[0m\n",
            "\u001b[32m[I 2022-05-25 08:40:10,931]\u001b[0m Trial 13 pruned. \u001b[0m\n",
            "\u001b[32m[I 2022-05-25 08:40:11,873]\u001b[0m Trial 14 pruned. \u001b[0m\n",
            "\u001b[32m[I 2022-05-25 08:40:12,760]\u001b[0m Trial 15 pruned. \u001b[0m\n",
            "\u001b[32m[I 2022-05-25 08:40:13,742]\u001b[0m Trial 16 pruned. \u001b[0m\n",
            "\u001b[32m[I 2022-05-25 08:40:14,643]\u001b[0m Trial 17 pruned. \u001b[0m\n",
            "\u001b[32m[I 2022-05-25 08:40:16,425]\u001b[0m Trial 18 pruned. \u001b[0m\n",
            "\u001b[32m[I 2022-05-25 08:40:17,378]\u001b[0m Trial 19 pruned. \u001b[0m\n",
            "\u001b[32m[I 2022-05-25 08:41:38,298]\u001b[0m Trial 20 finished with value: 0.7692307692307693 and parameters: {'n_layers': 1, 'n_units_l0': 38, 'dropout_l0': 0.3432995036902913, 'optimizer': 'SGD', 'lr': 0.01250171066054031}. Best is trial 1 with value: 0.7692307692307693.\u001b[0m\n",
            "\u001b[32m[I 2022-05-25 08:43:07,122]\u001b[0m Trial 21 finished with value: 0.7692307692307693 and parameters: {'n_layers': 1, 'n_units_l0': 33, 'dropout_l0': 0.35863917715745847, 'optimizer': 'SGD', 'lr': 0.011636725408684776}. Best is trial 1 with value: 0.7692307692307693.\u001b[0m\n",
            "\u001b[32m[I 2022-05-25 08:43:07,945]\u001b[0m Trial 22 pruned. \u001b[0m\n",
            "\u001b[32m[I 2022-05-25 08:43:08,840]\u001b[0m Trial 23 pruned. \u001b[0m\n",
            "\u001b[32m[I 2022-05-25 08:43:09,695]\u001b[0m Trial 24 pruned. \u001b[0m\n",
            "\u001b[32m[I 2022-05-25 08:44:39,925]\u001b[0m Trial 25 finished with value: 0.6730769230769231 and parameters: {'n_layers': 2, 'n_units_l0': 36, 'dropout_l0': 0.4106443838270315, 'n_units_l1': 110, 'dropout_l1': 0.33999189792279233, 'optimizer': 'Adam', 'lr': 0.002473122052284659}. Best is trial 1 with value: 0.7692307692307693.\u001b[0m\n",
            "\u001b[32m[I 2022-05-25 08:44:40,898]\u001b[0m Trial 26 pruned. \u001b[0m\n",
            "\u001b[32m[I 2022-05-25 08:44:41,909]\u001b[0m Trial 27 pruned. \u001b[0m\n",
            "\u001b[32m[I 2022-05-25 08:44:42,943]\u001b[0m Trial 28 pruned. \u001b[0m\n",
            "\u001b[32m[I 2022-05-25 08:44:43,996]\u001b[0m Trial 29 pruned. \u001b[0m\n",
            "\u001b[32m[I 2022-05-25 08:44:44,963]\u001b[0m Trial 30 pruned. \u001b[0m\n",
            "\u001b[32m[I 2022-05-25 08:46:15,768]\u001b[0m Trial 31 finished with value: 0.7307692307692307 and parameters: {'n_layers': 1, 'n_units_l0': 92, 'dropout_l0': 0.35129938461772847, 'optimizer': 'SGD', 'lr': 0.019010282096661002}. Best is trial 1 with value: 0.7692307692307693.\u001b[0m\n",
            "\u001b[32m[I 2022-05-25 08:46:16,708]\u001b[0m Trial 32 pruned. \u001b[0m\n",
            "\u001b[32m[I 2022-05-25 08:47:47,269]\u001b[0m Trial 33 finished with value: 0.6538461538461539 and parameters: {'n_layers': 1, 'n_units_l0': 60, 'dropout_l0': 0.2371906807541944, 'optimizer': 'SGD', 'lr': 0.033316213987327245}. Best is trial 1 with value: 0.7692307692307693.\u001b[0m\n",
            "\u001b[32m[I 2022-05-25 08:47:48,242]\u001b[0m Trial 34 pruned. \u001b[0m\n",
            "\u001b[32m[I 2022-05-25 08:47:49,305]\u001b[0m Trial 35 pruned. \u001b[0m\n",
            "\u001b[32m[I 2022-05-25 08:49:21,513]\u001b[0m Trial 36 finished with value: 0.7307692307692307 and parameters: {'n_layers': 2, 'n_units_l0': 47, 'dropout_l0': 0.3983899068725255, 'n_units_l1': 94, 'dropout_l1': 0.24574679079496553, 'optimizer': 'RMSprop', 'lr': 0.0004641741345761569}. Best is trial 1 with value: 0.7692307692307693.\u001b[0m\n",
            "\u001b[32m[I 2022-05-25 08:49:29,836]\u001b[0m Trial 37 pruned. \u001b[0m\n",
            "\u001b[32m[I 2022-05-25 08:49:30,796]\u001b[0m Trial 38 pruned. \u001b[0m\n",
            "\u001b[32m[I 2022-05-25 08:51:07,361]\u001b[0m Trial 39 finished with value: 0.6923076923076923 and parameters: {'n_layers': 2, 'n_units_l0': 81, 'dropout_l0': 0.2213792545250044, 'n_units_l1': 66, 'dropout_l1': 0.14090257148433435, 'optimizer': 'RMSprop', 'lr': 0.0013715424548225}. Best is trial 1 with value: 0.7692307692307693.\u001b[0m\n",
            "\u001b[32m[I 2022-05-25 08:52:58,098]\u001b[0m Trial 40 finished with value: 0.75 and parameters: {'n_layers': 3, 'n_units_l0': 97, 'dropout_l0': 0.339467156659561, 'n_units_l1': 115, 'dropout_l1': 0.388716260140458, 'n_units_l2': 75, 'dropout_l2': 0.1200603084154988, 'optimizer': 'Adam', 'lr': 0.004727977891843757}. Best is trial 1 with value: 0.7692307692307693.\u001b[0m\n",
            "\u001b[32m[I 2022-05-25 08:54:46,215]\u001b[0m Trial 41 finished with value: 0.8461538461538461 and parameters: {'n_layers': 3, 'n_units_l0': 96, 'dropout_l0': 0.352744256630383, 'n_units_l1': 115, 'dropout_l1': 0.38236094441509805, 'n_units_l2': 81, 'dropout_l2': 0.1373959777347792, 'optimizer': 'Adam', 'lr': 0.004976536851408254}. Best is trial 41 with value: 0.8461538461538461.\u001b[0m\n",
            "\u001b[32m[I 2022-05-25 08:54:47,270]\u001b[0m Trial 42 pruned. \u001b[0m\n",
            "\u001b[32m[I 2022-05-25 08:56:35,513]\u001b[0m Trial 43 finished with value: 0.75 and parameters: {'n_layers': 3, 'n_units_l0': 93, 'dropout_l0': 0.34627363034482356, 'n_units_l1': 112, 'dropout_l1': 0.3919814693320367, 'n_units_l2': 79, 'dropout_l2': 0.10198849569216986, 'optimizer': 'Adam', 'lr': 0.0030833084667527214}. Best is trial 41 with value: 0.8461538461538461.\u001b[0m\n",
            "\u001b[32m[I 2022-05-25 08:58:21,589]\u001b[0m Trial 44 finished with value: 0.7307692307692307 and parameters: {'n_layers': 4, 'n_units_l0': 97, 'dropout_l0': 0.3222251867256611, 'n_units_l1': 117, 'dropout_l1': 0.3814418305251679, 'n_units_l2': 80, 'dropout_l2': 0.14323269296711488, 'n_units_l3': 57, 'dropout_l3': 0.10872120972747065, 'optimizer': 'Adam', 'lr': 0.004320934768717079}. Best is trial 41 with value: 0.8461538461538461.\u001b[0m\n",
            "\u001b[32m[I 2022-05-25 08:58:22,655]\u001b[0m Trial 45 pruned. \u001b[0m\n",
            "\u001b[32m[I 2022-05-25 08:58:23,726]\u001b[0m Trial 46 pruned. \u001b[0m\n",
            "\u001b[32m[I 2022-05-25 08:58:24,813]\u001b[0m Trial 47 pruned. \u001b[0m\n",
            "\u001b[32m[I 2022-05-25 08:58:25,924]\u001b[0m Trial 48 pruned. \u001b[0m\n",
            "\u001b[32m[I 2022-05-25 08:58:27,170]\u001b[0m Trial 49 pruned. \u001b[0m\n",
            "\u001b[32m[I 2022-05-25 08:58:28,388]\u001b[0m Trial 50 pruned. \u001b[0m\n",
            "\u001b[32m[I 2022-05-25 09:00:12,230]\u001b[0m Trial 51 finished with value: 0.7115384615384616 and parameters: {'n_layers': 3, 'n_units_l0': 91, 'dropout_l0': 0.3485937556069398, 'n_units_l1': 113, 'dropout_l1': 0.38577142687508315, 'n_units_l2': 78, 'dropout_l2': 0.10437906538948459, 'optimizer': 'Adam', 'lr': 0.0028735820677264173}. Best is trial 41 with value: 0.8461538461538461.\u001b[0m\n",
            "\u001b[32m[I 2022-05-25 09:00:13,286]\u001b[0m Trial 52 pruned. \u001b[0m\n",
            "\u001b[32m[I 2022-05-25 09:02:00,140]\u001b[0m Trial 53 finished with value: 0.6923076923076923 and parameters: {'n_layers': 3, 'n_units_l0': 83, 'dropout_l0': 0.28750599031447344, 'n_units_l1': 107, 'dropout_l1': 0.30203004479687184, 'n_units_l2': 94, 'dropout_l2': 0.18316540629086453, 'optimizer': 'Adam', 'lr': 0.0032733137454013673}. Best is trial 41 with value: 0.8461538461538461.\u001b[0m\n",
            "\u001b[32m[I 2022-05-25 09:02:01,208]\u001b[0m Trial 54 pruned. \u001b[0m\n",
            "\u001b[32m[I 2022-05-25 09:03:46,872]\u001b[0m Trial 55 finished with value: 0.7115384615384616 and parameters: {'n_layers': 3, 'n_units_l0': 94, 'dropout_l0': 0.3553147351963147, 'n_units_l1': 117, 'dropout_l1': 0.3640439202588936, 'n_units_l2': 70, 'dropout_l2': 0.10344605441564561, 'optimizer': 'Adam', 'lr': 0.0015603333257447607}. Best is trial 41 with value: 0.8461538461538461.\u001b[0m\n",
            "\u001b[32m[I 2022-05-25 09:03:47,985]\u001b[0m Trial 56 pruned. \u001b[0m\n",
            "\u001b[32m[I 2022-05-25 09:03:49,109]\u001b[0m Trial 57 pruned. \u001b[0m\n",
            "\u001b[32m[I 2022-05-25 09:05:35,464]\u001b[0m Trial 58 finished with value: 0.6730769230769231 and parameters: {'n_layers': 2, 'n_units_l0': 103, 'dropout_l0': 0.3256967420570441, 'n_units_l1': 99, 'dropout_l1': 0.2767393128749513, 'optimizer': 'SGD', 'lr': 0.02838200277085143}. Best is trial 41 with value: 0.8461538461538461.\u001b[0m\n",
            "\u001b[32m[I 2022-05-25 09:05:39,331]\u001b[0m Trial 59 pruned. \u001b[0m\n",
            "\u001b[32m[I 2022-05-25 09:07:35,535]\u001b[0m Trial 60 finished with value: 0.6923076923076923 and parameters: {'n_layers': 3, 'n_units_l0': 86, 'dropout_l0': 0.36741191567378995, 'n_units_l1': 94, 'dropout_l1': 0.3900120447531638, 'n_units_l2': 101, 'dropout_l2': 0.16738262925266142, 'optimizer': 'Adam', 'lr': 0.0022058252687393943}. Best is trial 41 with value: 0.8461538461538461.\u001b[0m\n",
            "\u001b[32m[I 2022-05-25 09:07:36,830]\u001b[0m Trial 61 pruned. \u001b[0m\n",
            "\u001b[32m[I 2022-05-25 09:07:38,132]\u001b[0m Trial 62 pruned. \u001b[0m\n",
            "\u001b[32m[I 2022-05-25 09:09:26,716]\u001b[0m Trial 63 finished with value: 0.7884615384615384 and parameters: {'n_layers': 1, 'n_units_l0': 95, 'dropout_l0': 0.285120538371081, 'optimizer': 'SGD', 'lr': 0.008115183464542318}. Best is trial 41 with value: 0.8461538461538461.\u001b[0m\n",
            "\u001b[32m[I 2022-05-25 09:09:27,778]\u001b[0m Trial 64 pruned. \u001b[0m\n",
            "\u001b[32m[I 2022-05-25 09:09:28,839]\u001b[0m Trial 65 pruned. \u001b[0m\n",
            "\u001b[32m[I 2022-05-25 09:09:29,859]\u001b[0m Trial 66 pruned. \u001b[0m\n",
            "\u001b[32m[I 2022-05-25 09:09:33,008]\u001b[0m Trial 67 pruned. \u001b[0m\n",
            "\u001b[32m[I 2022-05-25 09:09:34,026]\u001b[0m Trial 68 pruned. \u001b[0m\n",
            "\u001b[32m[I 2022-05-25 09:11:29,597]\u001b[0m Trial 69 finished with value: 0.7692307692307693 and parameters: {'n_layers': 3, 'n_units_l0': 85, 'dropout_l0': 0.3996763416845407, 'n_units_l1': 114, 'dropout_l1': 0.45728523081534195, 'n_units_l2': 61, 'dropout_l2': 0.34593387035288725, 'optimizer': 'Adam', 'lr': 0.003485530845997731}. Best is trial 41 with value: 0.8461538461538461.\u001b[0m\n",
            "\u001b[32m[I 2022-05-25 09:11:30,744]\u001b[0m Trial 70 pruned. \u001b[0m\n",
            "\u001b[32m[I 2022-05-25 09:11:31,929]\u001b[0m Trial 71 pruned. \u001b[0m\n",
            "\u001b[32m[I 2022-05-25 09:11:33,020]\u001b[0m Trial 72 pruned. \u001b[0m\n",
            "\u001b[32m[I 2022-05-25 09:11:34,212]\u001b[0m Trial 73 pruned. \u001b[0m\n",
            "\u001b[32m[I 2022-05-25 09:11:35,412]\u001b[0m Trial 74 pruned. \u001b[0m\n",
            "\u001b[32m[I 2022-05-25 09:13:30,309]\u001b[0m Trial 75 finished with value: 0.7692307692307693 and parameters: {'n_layers': 1, 'n_units_l0': 24, 'dropout_l0': 0.21554883902311528, 'optimizer': 'SGD', 'lr': 0.010373397551947577}. Best is trial 41 with value: 0.8461538461538461.\u001b[0m\n",
            "\u001b[32m[I 2022-05-25 09:13:31,396]\u001b[0m Trial 76 pruned. \u001b[0m\n",
            "\u001b[32m[I 2022-05-25 09:15:42,476]\u001b[0m Trial 77 finished with value: 0.7115384615384616 and parameters: {'n_layers': 1, 'n_units_l0': 42, 'dropout_l0': 0.1712463644432291, 'optimizer': 'SGD', 'lr': 0.00877381651050166}. Best is trial 41 with value: 0.8461538461538461.\u001b[0m\n",
            "\u001b[32m[I 2022-05-25 09:15:43,781]\u001b[0m Trial 78 pruned. \u001b[0m\n",
            "\u001b[32m[I 2022-05-25 09:15:45,092]\u001b[0m Trial 79 pruned. \u001b[0m\n",
            "\u001b[32m[I 2022-05-25 09:15:46,445]\u001b[0m Trial 80 pruned. \u001b[0m\n",
            "\u001b[32m[I 2022-05-25 09:15:47,613]\u001b[0m Trial 81 pruned. \u001b[0m\n",
            "\u001b[32m[I 2022-05-25 09:15:48,806]\u001b[0m Trial 82 pruned. \u001b[0m\n",
            "\u001b[32m[I 2022-05-25 09:15:49,950]\u001b[0m Trial 83 pruned. \u001b[0m\n",
            "\u001b[32m[I 2022-05-25 09:17:47,135]\u001b[0m Trial 84 finished with value: 0.7307692307692307 and parameters: {'n_layers': 1, 'n_units_l0': 47, 'dropout_l0': 0.20794214333767477, 'optimizer': 'SGD', 'lr': 0.020387143564118408}. Best is trial 41 with value: 0.8461538461538461.\u001b[0m\n",
            "\u001b[32m[I 2022-05-25 09:17:48,396]\u001b[0m Trial 85 pruned. \u001b[0m\n",
            "\u001b[32m[I 2022-05-25 09:17:49,609]\u001b[0m Trial 86 pruned. \u001b[0m\n",
            "\u001b[32m[I 2022-05-25 09:17:50,848]\u001b[0m Trial 87 pruned. \u001b[0m\n",
            "\u001b[32m[I 2022-05-25 09:17:53,334]\u001b[0m Trial 88 pruned. \u001b[0m\n",
            "\u001b[32m[I 2022-05-25 09:17:54,673]\u001b[0m Trial 89 pruned. \u001b[0m\n",
            "\u001b[32m[I 2022-05-25 09:17:55,947]\u001b[0m Trial 90 pruned. \u001b[0m\n",
            "\u001b[32m[I 2022-05-25 09:17:57,390]\u001b[0m Trial 91 pruned. \u001b[0m\n",
            "\u001b[32m[I 2022-05-25 09:17:58,778]\u001b[0m Trial 92 pruned. \u001b[0m\n",
            "\u001b[32m[I 2022-05-25 09:17:59,899]\u001b[0m Trial 93 pruned. \u001b[0m\n",
            "\u001b[32m[I 2022-05-25 09:18:01,117]\u001b[0m Trial 94 pruned. \u001b[0m\n",
            "\u001b[32m[I 2022-05-25 09:18:02,276]\u001b[0m Trial 95 pruned. \u001b[0m\n",
            "\u001b[32m[I 2022-05-25 09:18:03,426]\u001b[0m Trial 96 pruned. \u001b[0m\n",
            "\u001b[32m[I 2022-05-25 09:18:04,669]\u001b[0m Trial 97 pruned. \u001b[0m\n",
            "\u001b[32m[I 2022-05-25 09:18:05,863]\u001b[0m Trial 98 pruned. \u001b[0m\n",
            "\u001b[32m[I 2022-05-25 09:20:08,103]\u001b[0m Trial 99 finished with value: 0.8269230769230769 and parameters: {'n_layers': 1, 'n_units_l0': 106, 'dropout_l0': 0.3097266323901597, 'optimizer': 'Adam', 'lr': 0.006204494686846233}. Best is trial 41 with value: 0.8461538461538461.\u001b[0m\n"
          ]
        },
        {
          "output_type": "stream",
          "name": "stdout",
          "text": [
            "Study statistics: \n",
            "  Number of finished trials:  100\n",
            "  Number of pruned trials:  70\n",
            "  Number of complete trials:  30\n",
            "Best trial:\n",
            "  Value:  0.8461538461538461\n",
            "  Params: \n",
            "    n_layers: 3\n",
            "    n_units_l0: 96\n",
            "    dropout_l0: 0.352744256630383\n",
            "    n_units_l1: 115\n",
            "    dropout_l1: 0.38236094441509805\n",
            "    n_units_l2: 81\n",
            "    dropout_l2: 0.1373959777347792\n",
            "    optimizer: Adam\n",
            "    lr: 0.004976536851408254\n"
          ]
        }
      ]
    },
    {
      "cell_type": "markdown",
      "source": [
        "# Download of Neural Network and Train/Test Datasets for Reproduction"
      ],
      "metadata": {
        "id": "JFOy1Q2AqL7j"
      }
    },
    {
      "cell_type": "code",
      "source": [
        "files.download(\"{}.pickle\".format(study.best_trial.number))\n",
        "with open(\"{}.pickle\".format(study.best_trial.number), \"rb\") as fin:\n",
        "    best_result = pickle.load(fin)"
      ],
      "metadata": {
        "colab": {
          "base_uri": "https://localhost:8080/",
          "height": 17
        },
        "id": "LbeESnM_nSJb",
        "outputId": "6945917d-81ba-4287-b4b9-1c53f08405fb"
      },
      "execution_count": null,
      "outputs": [
        {
          "output_type": "display_data",
          "data": {
            "text/plain": [
              "<IPython.core.display.Javascript object>"
            ],
            "application/javascript": [
              "\n",
              "    async function download(id, filename, size) {\n",
              "      if (!google.colab.kernel.accessAllowed) {\n",
              "        return;\n",
              "      }\n",
              "      const div = document.createElement('div');\n",
              "      const label = document.createElement('label');\n",
              "      label.textContent = `Downloading \"${filename}\": `;\n",
              "      div.appendChild(label);\n",
              "      const progress = document.createElement('progress');\n",
              "      progress.max = size;\n",
              "      div.appendChild(progress);\n",
              "      document.body.appendChild(div);\n",
              "\n",
              "      const buffers = [];\n",
              "      let downloaded = 0;\n",
              "\n",
              "      const channel = await google.colab.kernel.comms.open(id);\n",
              "      // Send a message to notify the kernel that we're ready.\n",
              "      channel.send({})\n",
              "\n",
              "      for await (const message of channel.messages) {\n",
              "        // Send a message to notify the kernel that we're ready.\n",
              "        channel.send({})\n",
              "        if (message.buffers) {\n",
              "          for (const buffer of message.buffers) {\n",
              "            buffers.push(buffer);\n",
              "            downloaded += buffer.byteLength;\n",
              "            progress.value = downloaded;\n",
              "          }\n",
              "        }\n",
              "      }\n",
              "      const blob = new Blob(buffers, {type: 'application/binary'});\n",
              "      const a = document.createElement('a');\n",
              "      a.href = window.URL.createObjectURL(blob);\n",
              "      a.download = filename;\n",
              "      div.appendChild(a);\n",
              "      a.click();\n",
              "      div.remove();\n",
              "    }\n",
              "  "
            ]
          },
          "metadata": {}
        },
        {
          "output_type": "display_data",
          "data": {
            "text/plain": [
              "<IPython.core.display.Javascript object>"
            ],
            "application/javascript": [
              "download(\"download_dedbe115-6269-4064-b7b6-e3169fe80926\", \"41.pickle\", 199425)"
            ]
          },
          "metadata": {}
        }
      ]
    },
    {
      "cell_type": "code",
      "source": [
        "import numpy\n",
        "#save dataset\n",
        "numpy.save('arrhythmia_train', train, allow_pickle = True)\n",
        "numpy.save('arrhythmia_test', test, allow_pickle = True)"
      ],
      "metadata": {
        "id": "2TOuH1f4h8qV",
        "colab": {
          "base_uri": "https://localhost:8080/"
        },
        "outputId": "78f1bab2-bba4-47bb-86da-bfb74142ff83"
      },
      "execution_count": null,
      "outputs": [
        {
          "output_type": "stream",
          "name": "stderr",
          "text": [
            "/usr/local/lib/python3.7/dist-packages/numpy/lib/npyio.py:528: FutureWarning: The input object of type 'Tensor' is an array-like implementing one of the corresponding protocols (`__array__`, `__array_interface__` or `__array_struct__`); but not a sequence (or 0-D). In the future, this object will be coerced as if it was first converted using `np.array(obj)`. To retain the old behaviour, you have to either modify the type 'Tensor', or assign to an empty array created with `np.empty(correct_shape, dtype=object)`.\n",
            "  arr = np.asanyarray(arr)\n",
            "/usr/local/lib/python3.7/dist-packages/numpy/lib/npyio.py:528: VisibleDeprecationWarning: Creating an ndarray from ragged nested sequences (which is a list-or-tuple of lists-or-tuples-or ndarrays with different lengths or shapes) is deprecated. If you meant to do this, you must specify 'dtype=object' when creating the ndarray.\n",
            "  arr = np.asanyarray(arr)\n"
          ]
        }
      ]
    },
    {
      "cell_type": "markdown",
      "source": [
        ""
      ],
      "metadata": {
        "id": "6RbqR1Ga6gyk"
      }
    },
    {
      "cell_type": "code",
      "source": [
        "files.download('arrhythmia_train.pt')\n"
      ],
      "metadata": {
        "colab": {
          "base_uri": "https://localhost:8080/",
          "height": 17
        },
        "id": "c4BVyOPuie-h",
        "outputId": "16c2f1dd-3acc-4e7f-bb93-4e0ab674fba4"
      },
      "execution_count": null,
      "outputs": [
        {
          "output_type": "display_data",
          "data": {
            "text/plain": [
              "<IPython.core.display.Javascript object>"
            ],
            "application/javascript": [
              "\n",
              "    async function download(id, filename, size) {\n",
              "      if (!google.colab.kernel.accessAllowed) {\n",
              "        return;\n",
              "      }\n",
              "      const div = document.createElement('div');\n",
              "      const label = document.createElement('label');\n",
              "      label.textContent = `Downloading \"${filename}\": `;\n",
              "      div.appendChild(label);\n",
              "      const progress = document.createElement('progress');\n",
              "      progress.max = size;\n",
              "      div.appendChild(progress);\n",
              "      document.body.appendChild(div);\n",
              "\n",
              "      const buffers = [];\n",
              "      let downloaded = 0;\n",
              "\n",
              "      const channel = await google.colab.kernel.comms.open(id);\n",
              "      // Send a message to notify the kernel that we're ready.\n",
              "      channel.send({})\n",
              "\n",
              "      for await (const message of channel.messages) {\n",
              "        // Send a message to notify the kernel that we're ready.\n",
              "        channel.send({})\n",
              "        if (message.buffers) {\n",
              "          for (const buffer of message.buffers) {\n",
              "            buffers.push(buffer);\n",
              "            downloaded += buffer.byteLength;\n",
              "            progress.value = downloaded;\n",
              "          }\n",
              "        }\n",
              "      }\n",
              "      const blob = new Blob(buffers, {type: 'application/binary'});\n",
              "      const a = document.createElement('a');\n",
              "      a.href = window.URL.createObjectURL(blob);\n",
              "      a.download = filename;\n",
              "      div.appendChild(a);\n",
              "      a.click();\n",
              "      div.remove();\n",
              "    }\n",
              "  "
            ]
          },
          "metadata": {}
        },
        {
          "output_type": "display_data",
          "data": {
            "text/plain": [
              "<IPython.core.display.Javascript object>"
            ],
            "application/javascript": [
              "download(\"download_2fee1cec-fd5a-4d89-8210-4f18213023b7\", \"arrhythmia_train.pt\", 510119)"
            ]
          },
          "metadata": {}
        },
        {
          "output_type": "display_data",
          "data": {
            "text/plain": [
              "<IPython.core.display.Javascript object>"
            ],
            "application/javascript": [
              "\n",
              "    async function download(id, filename, size) {\n",
              "      if (!google.colab.kernel.accessAllowed) {\n",
              "        return;\n",
              "      }\n",
              "      const div = document.createElement('div');\n",
              "      const label = document.createElement('label');\n",
              "      label.textContent = `Downloading \"${filename}\": `;\n",
              "      div.appendChild(label);\n",
              "      const progress = document.createElement('progress');\n",
              "      progress.max = size;\n",
              "      div.appendChild(progress);\n",
              "      document.body.appendChild(div);\n",
              "\n",
              "      const buffers = [];\n",
              "      let downloaded = 0;\n",
              "\n",
              "      const channel = await google.colab.kernel.comms.open(id);\n",
              "      // Send a message to notify the kernel that we're ready.\n",
              "      channel.send({})\n",
              "\n",
              "      for await (const message of channel.messages) {\n",
              "        // Send a message to notify the kernel that we're ready.\n",
              "        channel.send({})\n",
              "        if (message.buffers) {\n",
              "          for (const buffer of message.buffers) {\n",
              "            buffers.push(buffer);\n",
              "            downloaded += buffer.byteLength;\n",
              "            progress.value = downloaded;\n",
              "          }\n",
              "        }\n",
              "      }\n",
              "      const blob = new Blob(buffers, {type: 'application/binary'});\n",
              "      const a = document.createElement('a');\n",
              "      a.href = window.URL.createObjectURL(blob);\n",
              "      a.download = filename;\n",
              "      div.appendChild(a);\n",
              "      a.click();\n",
              "      div.remove();\n",
              "    }\n",
              "  "
            ]
          },
          "metadata": {}
        },
        {
          "output_type": "display_data",
          "data": {
            "text/plain": [
              "<IPython.core.display.Javascript object>"
            ],
            "application/javascript": [
              "download(\"download_42c90ead-b657-4c5b-8cc8-4f7de2ec6b76\", \"arrhythmia_test.pt\", 509223)"
            ]
          },
          "metadata": {}
        }
      ]
    },
    {
      "cell_type": "code",
      "source": [
        "files.download('arrhythmia_test.pt')"
      ],
      "metadata": {
        "id": "j7F-A8T5i1L4"
      },
      "execution_count": null,
      "outputs": []
    },
    {
      "cell_type": "code",
      "source": [
        ""
      ],
      "metadata": {
        "id": "TYUM1teldm6C"
      },
      "execution_count": null,
      "outputs": []
    }
  ]
}
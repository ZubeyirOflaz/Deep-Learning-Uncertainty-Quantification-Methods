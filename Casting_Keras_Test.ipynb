{
 "cells": [
  {
   "cell_type": "code",
   "execution_count": 1,
   "metadata": {},
   "outputs": [],
   "source": [
    "from wandb.sdk import lib\n",
    "import wandb\n",
    "#from wandb.keras import WandbCallback\n",
    "# wandb.init(project=\"qc_casting_products\", entity=\"zubeyir_oflaz\")\n",
    "#from tensorflow.python.client import device_lib\n",
    "#print(device_lib.list_local_devices())"
   ]
  },
  {
   "cell_type": "code",
   "execution_count": 2,
   "metadata": {},
   "outputs": [],
   "source": [
    "import tensorflow as tf\n",
    "from tensorflow.python.client import device_lib\n",
    "import os\n",
    "import pandas as pd\n",
    "import numpy as np\n",
    "import seaborn as sns\n",
    "import matplotlib.pyplot as plt\n",
    "from matplotlib.image import imread\n",
    "from sklearn.metrics import classification_report,confusion_matrix\n",
    "\n",
    "#%matplotlib inline\n",
    "#print(device_lib.list_local_devices())\n",
    "#print(tf.__version__)\n",
    "#print(\"Num GPUs Available: \", len(tf.config.experimental.list_physical_devices('GPU')))\n",
    "#tf.config.list_physical_devices('GPU')\n"
   ]
  },
  {
   "cell_type": "code",
   "execution_count": 3,
   "metadata": {},
   "outputs": [
    {
     "name": "stdout",
     "output_type": "stream",
     "text": [
      "WARNING:tensorflow:`input_shape` is undefined or non-square, or `rows` is not in [96, 128, 160, 192, 224]. Weights for input shape (224, 224) will be loaded as the default.\n"
     ]
    }
   ],
   "source": [
    "from keras.applications import MobileNetV2\n",
    "#from keras.applications import preprocess_input\n",
    "from keras.models import Model\n",
    "from keras.layers import Flatten, Dense, Dropout\n",
    "\n",
    "model = MobileNetV2(include_top=False, input_shape=(300,300,3))\n",
    "for layer in model.layers:\n",
    "    layer.trainable = False\n",
    "\n",
    "flat1 = Flatten()(model.layers[-1].output)\n",
    "class1 = Dense(32, activation='relu')(flat1)\n",
    "#do_1 = Dropout(0.3)(class1)\n",
    "#class2 = Dense(256, activation='relu')(do_1)\n",
    "#do_2 = Dropout(0.3)(class2)\n",
    "output = Dense(1, activation='sigmoid')(class1)\n",
    "\n",
    "model = Model(inputs = model.inputs, outputs = output)"
   ]
  },
  {
   "cell_type": "code",
   "execution_count": 4,
   "metadata": {},
   "outputs": [],
   "source": [
    "learning_rate = 0.001\n",
    "epoch = 15\n",
    "batch_size = 128\n",
    "#wandb.config = {\n",
    "#  \"learning_rate\": learning_rate,\n",
    "#  \"epochs\": epoch,\n",
    "#  \"batch_size\": batch_size\n",
    "#}\n"
   ]
  },
  {
   "cell_type": "code",
   "execution_count": 5,
   "metadata": {},
   "outputs": [
    {
     "name": "stdout",
     "output_type": "stream",
     "text": [
      "Found 6633 images belonging to 2 classes.\n",
      "Found 715 images belonging to 2 classes.\n"
     ]
    }
   ],
   "source": [
    "train_dir = \"./casting_dataset/casting_data/casting_data/train/\"\n",
    "test_dir = \"./casting_dataset/casting_data/casting_data/test/\"\n",
    "from tensorflow.keras.preprocessing.image import ImageDataGenerator , load_img ,img_to_array\n",
    "\n",
    "image_gen = ImageDataGenerator(rescale=1/255) # Rescale by normalizing\n",
    "image_shape = (224,224,1)\n",
    "\n",
    "#Binary classification of images using the built-in function\n",
    "train_set = image_gen.flow_from_directory(train_dir,\n",
    "                                               target_size=image_shape[:2],\n",
    "                                                color_mode=\"rgb\",\n",
    "                                               batch_size=batch_size,\n",
    "                                               class_mode='binary',shuffle=True)\n",
    "\n",
    "test_set = image_gen.flow_from_directory(test_dir,\n",
    "                                               target_size=image_shape[:2],\n",
    "                                               color_mode=\"rgb\",\n",
    "                                               batch_size=batch_size,\n",
    "                                               class_mode='binary',shuffle=False)"
   ]
  },
  {
   "cell_type": "markdown",
   "metadata": {},
   "source": [
    "from keras.applications.inception_v3 import InceptionV3\n",
    "from keras.applications.inception_v3 import preprocess_input\n",
    "from keras.models import Model\n",
    "from keras.layers import Flatten, Dense, Dropout\n",
    "\n",
    "model = InceptionV3(include_top=False, input_shape=(300,300,3))\n",
    "for layer in model.layers:\n",
    "    layer.trainable = False\n",
    "\n",
    "flat1 = Flatten()(model.layers[-1].output)\n",
    "class1 = Dense(512, activation='relu')(flat1)\n",
    "do_1 = Dropout(0.3)(class1)\n",
    "class2 = Dense(256, activation='relu')(do_1)\n",
    "do_2 = Dropout(0.3)(class2)\n",
    "output = Dense(1, activation='sigmoid')(do_2)\n",
    "\n",
    "model = Model(inputs = model.inputs, outputs = output)"
   ]
  },
  {
   "cell_type": "markdown",
   "metadata": {},
   "source": [
    "from keras.applications import MobileNetV2\n",
    "#from keras.applications import preprocess_input\n",
    "from keras.models import Model\n",
    "from keras.layers import Flatten, Dense, Dropout\n",
    "\n",
    "model = MobileNetV2(include_top=False, input_shape=(300,300,3))\n",
    "for layer in model.layers:\n",
    "    layer.trainable = False\n",
    "\n",
    "flat1 = Flatten()(model.layers[-1].output)\n",
    "class1 = Dense(32, activation='relu')(flat1)\n",
    "#do_1 = Dropout(0.3)(class1)\n",
    "#class2 = Dense(256, activation='relu')(do_1)\n",
    "#do_2 = Dropout(0.3)(class2)\n",
    "output = Dense(1, activation='sigmoid')(class1)\n",
    "\n",
    "model = Model(inputs = model.inputs, outputs = output)"
   ]
  },
  {
   "cell_type": "code",
   "execution_count": 6,
   "metadata": {},
   "outputs": [],
   "source": [
    "from keras.applications import MobileNetV2\n",
    "#from keras.applications import preprocess_input\n",
    "from keras.models import Model\n",
    "from keras.layers import Flatten, Dense, Dropout\n",
    "\n",
    "model = MobileNetV2(include_top=False, input_shape=(224,224,3))\n",
    "for layer in model.layers:\n",
    "    layer.trainable = False\n",
    "\n",
    "model_end = model.output\n",
    "model_end = Flatten(name=\"flatten\")(model_end)\n",
    "model_end = Dense(128, activation='relu')(model_end)\n",
    "model_end = Dropout(0.5)(model_end)\n",
    "model_end = Dense(32, activation='relu')(model_end)\n",
    "model_end = Dropout(0.3)(model_end)\n",
    "#do_1 = Dropout(0.3)(class1)\n",
    "#class2 = Dense(256, activation='relu')(do_1)\n",
    "#do_2 = Dropout(0.3)(class2)\n",
    "output_layer = Dense(1, activation='sigmoid')(model_end)\n",
    "\n",
    "model = Model(inputs = model.inputs, outputs = output_layer)"
   ]
  },
  {
   "cell_type": "code",
   "execution_count": 7,
   "metadata": {},
   "outputs": [],
   "source": [
    "from tensorflow.keras.callbacks import EarlyStopping\n",
    "early_stop = EarlyStopping(monitor='val_loss',patience=5)\n",
    "from sklearn.preprocessing import LabelEncoder\n",
    "model.compile(loss='binary_crossentropy',\n",
    "              optimizer='adam',\n",
    "              metrics=['accuracy'])\n"
   ]
  },
  {
   "cell_type": "code",
   "execution_count": 8,
   "metadata": {},
   "outputs": [
    {
     "name": "stdout",
     "output_type": "stream",
     "text": [
      "Epoch 1/15\n",
      "52/52 [==============================] - 49s 950ms/step - loss: 1.4589 - accuracy: 0.7472 - val_loss: 0.0754 - val_accuracy: 0.9762\n",
      "Epoch 2/15\n",
      "52/52 [==============================] - 20s 377ms/step - loss: 0.1573 - accuracy: 0.9319 - val_loss: 0.0508 - val_accuracy: 0.9902\n",
      "Epoch 3/15\n",
      "52/52 [==============================] - 19s 362ms/step - loss: 0.0957 - accuracy: 0.9588 - val_loss: 0.0187 - val_accuracy: 0.9972\n",
      "Epoch 4/15\n",
      "52/52 [==============================] - 19s 361ms/step - loss: 0.0791 - accuracy: 0.9689 - val_loss: 0.0214 - val_accuracy: 0.9944\n",
      "Epoch 5/15\n",
      "52/52 [==============================] - 19s 362ms/step - loss: 0.0781 - accuracy: 0.9701 - val_loss: 0.0165 - val_accuracy: 0.9958\n",
      "Epoch 6/15\n",
      "52/52 [==============================] - 19s 360ms/step - loss: 0.0597 - accuracy: 0.9748 - val_loss: 0.0156 - val_accuracy: 0.9958\n",
      "Epoch 7/15\n",
      "52/52 [==============================] - 19s 364ms/step - loss: 0.0491 - accuracy: 0.9839 - val_loss: 0.0157 - val_accuracy: 0.9958\n",
      "Epoch 8/15\n",
      "52/52 [==============================] - 19s 366ms/step - loss: 0.0574 - accuracy: 0.9839 - val_loss: 0.0180 - val_accuracy: 0.9944\n",
      "Epoch 9/15\n",
      "52/52 [==============================] - 19s 360ms/step - loss: 0.0612 - accuracy: 0.9819 - val_loss: 0.0157 - val_accuracy: 0.9944\n",
      "Epoch 10/15\n",
      "52/52 [==============================] - 19s 361ms/step - loss: 0.0477 - accuracy: 0.9863 - val_loss: 0.0142 - val_accuracy: 0.9972\n",
      "Epoch 11/15\n",
      "52/52 [==============================] - 19s 358ms/step - loss: 0.0430 - accuracy: 0.9858 - val_loss: 0.0094 - val_accuracy: 0.9986\n",
      "Epoch 12/15\n",
      "52/52 [==============================] - 19s 360ms/step - loss: 0.0526 - accuracy: 0.9790 - val_loss: 0.0100 - val_accuracy: 0.9972\n",
      "Epoch 13/15\n",
      "52/52 [==============================] - 19s 358ms/step - loss: 0.0683 - accuracy: 0.9703 - val_loss: 0.0147 - val_accuracy: 0.9958\n",
      "Epoch 14/15\n",
      "52/52 [==============================] - 19s 358ms/step - loss: 0.0507 - accuracy: 0.9795 - val_loss: 0.0151 - val_accuracy: 0.9958\n",
      "Epoch 15/15\n",
      "52/52 [==============================] - 18s 355ms/step - loss: 0.0797 - accuracy: 0.9714 - val_loss: 0.0103 - val_accuracy: 0.9986\n"
     ]
    }
   ],
   "source": [
    "with tf.device('/gpu:0'):\n",
    "    trial = model.fit(train_set, epochs = epoch, validation_data = test_set,callbacks=[early_stop])"
   ]
  },
  {
   "cell_type": "code",
   "execution_count": 9,
   "metadata": {},
   "outputs": [],
   "source": [
    "losses = pd.DataFrame(model.history.history)"
   ]
  },
  {
   "cell_type": "code",
   "execution_count": 10,
   "metadata": {},
   "outputs": [
    {
     "data": {
      "text/plain": [
       "<AxesSubplot:>"
      ]
     },
     "execution_count": 10,
     "metadata": {},
     "output_type": "execute_result"
    },
    {
     "data": {
      "image/png": "[encoded data removed]",
      "text/plain": [
       "<Figure size 432x288 with 1 Axes>"
      ]
     },
     "metadata": {
      "needs_background": "light"
     },
     "output_type": "display_data"
    }
   ],
   "source": [
    "losses[['loss','val_loss']].plot()"
   ]
  },
  {
   "cell_type": "code",
   "execution_count": 11,
   "metadata": {},
   "outputs": [
    {
     "data": {
      "text/plain": [
       "<AxesSubplot:>"
      ]
     },
     "execution_count": 11,
     "metadata": {},
     "output_type": "execute_result"
    },
    {
     "data": {
      "image/png": "[encoded data removed]",
      "text/plain": [
       "<Figure size 432x288 with 1 Axes>"
      ]
     },
     "metadata": {
      "needs_background": "light"
     },
     "output_type": "display_data"
    }
   ],
   "source": [
    "losses[['accuracy','val_accuracy']].plot()"
   ]
  },
  {
   "cell_type": "code",
   "execution_count": 12,
   "metadata": {},
   "outputs": [
    {
     "name": "stdout",
     "output_type": "stream",
     "text": [
      "WARNING:tensorflow:From C:\\Users\\zapfa\\AppData\\Local\\Temp\\ipykernel_19920\\2939166990.py:1: Model.predict_generator (from tensorflow.python.keras.engine.training) is deprecated and will be removed in a future version.\n",
      "Instructions for updating:\n",
      "Please use Model.predict, which supports generators.\n",
      "              precision    recall  f1-score   support\n",
      "\n",
      "           0       0.96      1.00      0.98       453\n",
      "           1       1.00      0.93      0.96       262\n",
      "\n",
      "    accuracy                           0.97       715\n",
      "   macro avg       0.98      0.96      0.97       715\n",
      "weighted avg       0.97      0.97      0.97       715\n",
      "\n"
     ]
    }
   ],
   "source": [
    "pred_probability = model.predict_generator(test_set)\n",
    "predictions = pred_probability > 0.96\n",
    "print(classification_report(test_set.classes,predictions))"
   ]
  },
  {
   "cell_type": "code",
   "execution_count": 13,
   "metadata": {},
   "outputs": [
    {
     "data": {
      "text/plain": [
       "<AxesSubplot:>"
      ]
     },
     "execution_count": 13,
     "metadata": {},
     "output_type": "execute_result"
    },
    {
     "data": {
      "image/png": "[encoded data removed]",
      "text/plain": [
       "<Figure size 720x432 with 2 Axes>"
      ]
     },
     "metadata": {
      "needs_background": "light"
     },
     "output_type": "display_data"
    }
   ],
   "source": [
    "plt.figure(figsize=(10,6))\n",
    "sns.heatmap(confusion_matrix(test_set.classes,predictions),annot=True)"
   ]
  },
  {
   "cell_type": "code",
   "execution_count": null,
   "metadata": {},
   "outputs": [],
   "source": []
  },
  {
   "cell_type": "code",
   "execution_count": null,
   "metadata": {},
   "outputs": [],
   "source": []
  },
  {
   "cell_type": "markdown",
   "metadata": {},
   "source": []
  },
  {
   "cell_type": "code",
   "execution_count": 14,
   "metadata": {},
   "outputs": [],
   "source": [
    "\n",
    "# ... Define a model\n",
    "\n",
    "#model.fit(X_train, y_train, validation_data=(X_test, y_test), callbacks=[WandbCallback()])"
   ]
  }
 ],
 "metadata": {
  "interpreter": {
   "hash": "12f755d96895662303aaeef4444f51dfdf230a45df66eea2e2bc9c77fc488f09"
  },
  "kernelspec": {
   "display_name": "Python 3.8.12 64-bit (conda)",
   "language": "python",
   "name": "python3"
  },
  "language_info": {
   "codemirror_mode": {
    "name": "ipython",
    "version": 3
   },
   "file_extension": ".py",
   "mimetype": "text/x-python",
   "name": "python",
   "nbconvert_exporter": "python",
   "pygments_lexer": "ipython3",
   "version": "3.7.11"
  },
  "orig_nbformat": 4
 },
 "nbformat": 4,
 "nbformat_minor": 2
}
